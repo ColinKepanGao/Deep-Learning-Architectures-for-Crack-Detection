{
  "nbformat": 4,
  "nbformat_minor": 0,
  "metadata": {
    "colab": {
      "name": "TACK_vectorization.ipynb",
      "provenance": [],
      "collapsed_sections": []
    },
    "kernelspec": {
      "name": "python3",
      "display_name": "Python 3"
    },
    "language_info": {
      "name": "python"
    }
  },
  "cells": [
    {
      "cell_type": "code",
      "metadata": {
        "colab": {
          "base_uri": "https://localhost:8080/"
        },
        "id": "s4gdNi4QlAHT",
        "outputId": "c8b15f19-ee76-446b-8047-dea4a7f46b2a"
      },
      "source": [
        "!pip install centerline"
      ],
      "execution_count": null,
      "outputs": [
        {
          "output_type": "stream",
          "text": [
            "Collecting centerline\n",
            "  Downloading https://files.pythonhosted.org/packages/9a/f5/42f493ddf142f46c99a656c4a52a85ea58f46ff0f397b8102b45171e293c/centerline-0.6.3-py2.py3-none-any.whl\n",
            "Requirement already satisfied: numpy>=1.10.4 in /usr/local/lib/python3.7/dist-packages (from centerline) (1.19.5)\n",
            "Collecting Fiona>=1.7.0\n",
            "\u001b[?25l  Downloading https://files.pythonhosted.org/packages/ea/2a/404b22883298a3efe9c6ef8d67acbf2c38443fa366ee9cd4cd34e17626ea/Fiona-1.8.19-cp37-cp37m-manylinux1_x86_64.whl (15.3MB)\n",
            "\u001b[K     |████████████████████████████████| 15.3MB 195kB/s \n",
            "\u001b[?25hRequirement already satisfied: scipy>=0.16.1 in /usr/local/lib/python3.7/dist-packages (from centerline) (1.4.1)\n",
            "Requirement already satisfied: Click>=7.0 in /usr/local/lib/python3.7/dist-packages (from centerline) (8.0.0)\n",
            "Requirement already satisfied: Shapely>=1.5.13 in /usr/local/lib/python3.7/dist-packages (from centerline) (1.7.1)\n",
            "Requirement already satisfied: certifi in /usr/local/lib/python3.7/dist-packages (from Fiona>=1.7.0->centerline) (2020.12.5)\n",
            "Collecting cligj>=0.5\n",
            "  Downloading https://files.pythonhosted.org/packages/42/1e/947eadf10d6804bf276eb8a038bd5307996dceaaa41cfd21b7a15ec62f5d/cligj-0.7.1-py3-none-any.whl\n",
            "Collecting click-plugins>=1.0\n",
            "  Downloading https://files.pythonhosted.org/packages/e9/da/824b92d9942f4e472702488857914bdd50f73021efea15b4cad9aca8ecef/click_plugins-1.1.1-py2.py3-none-any.whl\n",
            "Requirement already satisfied: six>=1.7 in /usr/local/lib/python3.7/dist-packages (from Fiona>=1.7.0->centerline) (1.15.0)\n",
            "Requirement already satisfied: attrs>=17 in /usr/local/lib/python3.7/dist-packages (from Fiona>=1.7.0->centerline) (21.2.0)\n",
            "Collecting munch\n",
            "  Downloading https://files.pythonhosted.org/packages/cc/ab/85d8da5c9a45e072301beb37ad7f833cd344e04c817d97e0cc75681d248f/munch-2.5.0-py2.py3-none-any.whl\n",
            "\u001b[31mERROR: cligj 0.7.1 has requirement click<8,>=4.0, but you'll have click 8.0.0 which is incompatible.\u001b[0m\n",
            "\u001b[31mERROR: fiona 1.8.19 has requirement click<8,>=4.0, but you'll have click 8.0.0 which is incompatible.\u001b[0m\n",
            "Installing collected packages: cligj, click-plugins, munch, Fiona, centerline\n",
            "Successfully installed Fiona-1.8.19 centerline-0.6.3 click-plugins-1.1.1 cligj-0.7.1 munch-2.5.0\n"
          ],
          "name": "stdout"
        }
      ]
    },
    {
      "cell_type": "code",
      "metadata": {
        "colab": {
          "base_uri": "https://localhost:8080/"
        },
        "id": "QDPAoD2ulmmJ",
        "outputId": "bc0d2da6-48e8-4b2f-c9ff-19b912699a90"
      },
      "source": [
        "!pip install grass"
      ],
      "execution_count": null,
      "outputs": [
        {
          "output_type": "stream",
          "text": [
            "Collecting grass\n",
            "  Downloading https://files.pythonhosted.org/packages/e9/10/5f04299847e3193e14a4d9dd073a693e23ea9d6372f12d1513243896c7c3/grass-0.1.2.tar.gz\n",
            "Requirement already satisfied: PyYAML in /usr/local/lib/python3.7/dist-packages (from grass) (3.13)\n",
            "Collecting coloredlogs\n",
            "\u001b[?25l  Downloading https://files.pythonhosted.org/packages/84/a6/837dbf6eac344cb74f0ba86b79e8180855570af3e26bcb1ea5f650cf944c/coloredlogs-15.0-py2.py3-none-any.whl (45kB)\n",
            "\u001b[K     |████████████████████████████████| 51kB 3.0MB/s \n",
            "\u001b[?25hRequirement already satisfied: click in /usr/local/lib/python3.7/dist-packages (from grass) (8.0.0)\n",
            "Requirement already satisfied: networkx in /usr/local/lib/python3.7/dist-packages (from grass) (2.5.1)\n",
            "Requirement already satisfied: numpy in /usr/local/lib/python3.7/dist-packages (from grass) (1.19.5)\n",
            "Requirement already satisfied: pandas in /usr/local/lib/python3.7/dist-packages (from grass) (1.1.5)\n",
            "Requirement already satisfied: tqdm in /usr/local/lib/python3.7/dist-packages (from grass) (4.41.1)\n",
            "Collecting rapclust\n",
            "  Downloading https://files.pythonhosted.org/packages/3b/ad/7dcaf6c6507d7b8703fde76aba730f83d7dc6d04c5ef88f22e10f19e9d53/rapclust-0.1.2.tar.gz\n",
            "Collecting statistics\n",
            "  Downloading https://files.pythonhosted.org/packages/bb/3a/ae99a15e65636559d936dd2159d75af1619491e8cb770859fbc8aa62cef6/statistics-1.0.3.5.tar.gz\n",
            "Collecting humanfriendly>=9.1\n",
            "\u001b[?25l  Downloading https://files.pythonhosted.org/packages/93/66/363d01a81da2108a5cf446daf619779f06d49a0c4426dd02b40734f10e2f/humanfriendly-9.1-py2.py3-none-any.whl (86kB)\n",
            "\u001b[K     |████████████████████████████████| 92kB 4.7MB/s \n",
            "\u001b[?25hRequirement already satisfied: decorator<5,>=4.3 in /usr/local/lib/python3.7/dist-packages (from networkx->grass) (4.4.2)\n",
            "Requirement already satisfied: pytz>=2017.2 in /usr/local/lib/python3.7/dist-packages (from pandas->grass) (2018.9)\n",
            "Requirement already satisfied: python-dateutil>=2.7.3 in /usr/local/lib/python3.7/dist-packages (from pandas->grass) (2.8.1)\n",
            "Requirement already satisfied: docutils>=0.3 in /usr/local/lib/python3.7/dist-packages (from statistics->grass) (0.17.1)\n",
            "Requirement already satisfied: six>=1.5 in /usr/local/lib/python3.7/dist-packages (from python-dateutil>=2.7.3->pandas->grass) (1.15.0)\n",
            "Building wheels for collected packages: grass, rapclust, statistics\n",
            "  Building wheel for grass (setup.py) ... \u001b[?25l\u001b[?25hdone\n",
            "  Created wheel for grass: filename=grass-0.1.2-cp37-none-any.whl size=6537 sha256=c4d3e3ea715f5905901272d0cde1c750042dcdd93058d6bc0231e52dacdb2fb3\n",
            "  Stored in directory: /root/.cache/pip/wheels/0a/ac/7d/2f0709c4decc464c7fb7f6abc80f5a0dbcf7840bd0ec3b9877\n",
            "  Building wheel for rapclust (setup.py) ... \u001b[?25l\u001b[?25hdone\n",
            "  Created wheel for rapclust: filename=rapclust-0.1.2-cp37-none-any.whl size=6174 sha256=105f58dbf40a6f5c790f96284e19050a9830d6d48d42a31aa95fa2517a17c2ec\n",
            "  Stored in directory: /root/.cache/pip/wheels/e7/18/76/62bb5f8c8ffc153d25966da6b8b9ac11b1094fd024b20f90d4\n",
            "  Building wheel for statistics (setup.py) ... \u001b[?25l\u001b[?25hdone\n",
            "  Created wheel for statistics: filename=statistics-1.0.3.5-cp37-none-any.whl size=7454 sha256=077a8d5864be468d09cdd771ff92fd3855e731c0adf5c54ea9e28f39aa9f82e3\n",
            "  Stored in directory: /root/.cache/pip/wheels/75/55/90/73aa7662bfb4565b567618547a275f01372a678ca92ecd64f3\n",
            "Successfully built grass rapclust statistics\n",
            "Installing collected packages: humanfriendly, coloredlogs, rapclust, statistics, grass\n",
            "Successfully installed coloredlogs-15.0 grass-0.1.2 humanfriendly-9.1 rapclust-0.1.2 statistics-1.0.3.5\n"
          ],
          "name": "stdout"
        }
      ]
    },
    {
      "cell_type": "code",
      "metadata": {
        "colab": {
          "base_uri": "https://localhost:8080/"
        },
        "id": "fAZbw1JFlD5N",
        "outputId": "204eb685-4e92-488c-c2a7-af3462de34b7"
      },
      "source": [
        "!gdal_polygonize.py"
      ],
      "execution_count": null,
      "outputs": [
        {
          "output_type": "stream",
          "text": [
            "\n",
            "gdal_polygonize [-8] [-nomask] [-mask filename] raster_file [-b band|mask]\n",
            "                [-q] [-f ogr_format] out_file [layer] [fieldname]\n",
            "\n"
          ],
          "name": "stdout"
        }
      ]
    },
    {
      "cell_type": "code",
      "metadata": {
        "colab": {
          "base_uri": "https://localhost:8080/"
        },
        "id": "b8GB4dl77uYP",
        "outputId": "fa23f77d-94fe-4baa-cca7-0dc479383d76"
      },
      "source": [
        "from google.colab import drive\n",
        "drive.mount('/content/drive/')"
      ],
      "execution_count": null,
      "outputs": [
        {
          "output_type": "stream",
          "text": [
            "Mounted at /content/drive/\n"
          ],
          "name": "stdout"
        }
      ]
    },
    {
      "cell_type": "code",
      "metadata": {
        "colab": {
          "base_uri": "https://localhost:8080/"
        },
        "id": "BiszCXnO9Yi0",
        "outputId": "8e2d998e-21b7-479e-d7fe-e2e0244323d4"
      },
      "source": [
        "!gdal_polygonize.py \"/content/drive/My Drive/Colab Notebooks/TACK/Large/fuse/Camera4_block2-gata1_2017-10-10_231224_000101_D.bmp___fuse.png\" -mask \"/content/drive/My Drive/Colab Notebooks/TACK/Large/fuse/Camera4_block2-gata1_2017-10-10_231224_000101_D.bmp___fuse.png\" \"/content/drive/My Drive/Colab Notebooks/TACK/Large/fuse/Camera4_block2-gata1_2017-10-10_231224_000101_D.bmp___fuse.geojson\""
      ],
      "execution_count": null,
      "outputs": [
        {
          "output_type": "stream",
          "text": [
            "Creating output /content/drive/My Drive/Colab Notebooks/TACK/Large/fuse/Camera4_block2-gata1_2017-10-10_231224_000101_D.bmp___fuse.geojson of format GML.\n",
            "0...10...20...30...40...50...60...70...80...90...100 - done.\n"
          ],
          "name": "stdout"
        }
      ]
    },
    {
      "cell_type": "code",
      "metadata": {
        "id": "R0RXKe0sDjXn"
      },
      "source": [
        "!create_centerlines \"/content/drive/My Drive/Colab Notebooks/TACK/Large/fuse/Camera4_block2-gata1_2017-10-10_231224_000101_D.bmp___fuse.geojson\" \"/content/drive/My Drive/Colab Notebooks/TACK/Large/fuse/Camera4_block2-gata1_2017-10-10_231224_000101_D.bmp___fuse_centerline.geojson\""
      ],
      "execution_count": null,
      "outputs": []
    },
    {
      "cell_type": "code",
      "metadata": {
        "colab": {
          "base_uri": "https://localhost:8080/"
        },
        "id": "3xl60Fdk7cQA",
        "outputId": "3f16fc23-f567-48df-e8fe-d433dcb29c4b"
      },
      "source": [
        "import os\n",
        "path_mask = '/content/drive/My Drive/Colab Notebooks/TACK/Large/fuse/Camera4_block2-gata1_2017-10-10_231224_000101_D.bmp___fuse.png'\n",
        "path_polygon = '/content/drive/My Drive/Colab Notebooks/TACK/Large/fuse/Camera4_block2-gata1_2017-10-10_231224_000101_D.bmp___fuse.geojson'\n",
        "os.system('!gdal_polygonize.py ' + path_mask + ' -mask ' + path_mask + ' ' + path_polygon)\n"
      ],
      "execution_count": null,
      "outputs": [
        {
          "output_type": "execute_result",
          "data": {
            "text/plain": [
              "32512"
            ]
          },
          "metadata": {
            "tags": []
          },
          "execution_count": 22
        }
      ]
    }
  ]
}